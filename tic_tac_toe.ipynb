{
 "cells": [
  {
   "cell_type": "code",
   "execution_count": null,
   "id": "ef93d95d-6d06-4859-9673-1276b2bc047c",
   "metadata": {},
   "outputs": [
    {
     "name": "stdout",
     "output_type": "stream",
     "text": [
      "_ _ _\n",
      "_ _ _\n",
      "_ _ _\n",
      "\n"
     ]
    },
    {
     "name": "stdin",
     "output_type": "stream",
     "text": [
      "Enter your row (0–2):  1\n",
      "Enter your col (0–2):  1\n"
     ]
    },
    {
     "name": "stdout",
     "output_type": "stream",
     "text": [
      "Computer played at position: (0, 0)\n",
      "O _ _\n",
      "_ X _\n",
      "_ _ _\n",
      "\n"
     ]
    },
    {
     "name": "stdin",
     "output_type": "stream",
     "text": [
      "Enter your row (0–2):  1\n",
      "Enter your col (0–2):  1\n"
     ]
    },
    {
     "name": "stdout",
     "output_type": "stream",
     "text": [
      "Invalid move! Try again.\n",
      "O _ _\n",
      "_ X _\n",
      "_ _ _\n",
      "\n"
     ]
    },
    {
     "name": "stdin",
     "output_type": "stream",
     "text": [
      "Enter your row (0–2):  1\n",
      "Enter your col (0–2):  1\n"
     ]
    },
    {
     "name": "stdout",
     "output_type": "stream",
     "text": [
      "Invalid move! Try again.\n",
      "O _ _\n",
      "_ X _\n",
      "_ _ _\n",
      "\n"
     ]
    },
    {
     "name": "stdin",
     "output_type": "stream",
     "text": [
      "Enter your row (0–2):  1\n",
      "Enter your col (0–2):  1\n"
     ]
    },
    {
     "name": "stdout",
     "output_type": "stream",
     "text": [
      "Invalid move! Try again.\n",
      "O _ _\n",
      "_ X _\n",
      "_ _ _\n",
      "\n"
     ]
    },
    {
     "name": "stdin",
     "output_type": "stream",
     "text": [
      "Enter your row (0–2):  2\n",
      "Enter your col (0–2):  2\n"
     ]
    },
    {
     "name": "stdout",
     "output_type": "stream",
     "text": [
      "Computer played at position: (1, 0)\n",
      "O _ _\n",
      "O X _\n",
      "_ _ X\n",
      "\n"
     ]
    },
    {
     "name": "stdin",
     "output_type": "stream",
     "text": [
      "Enter your row (0–2):  32\n",
      "Enter your col (0–2):  22323123\n"
     ]
    },
    {
     "name": "stdout",
     "output_type": "stream",
     "text": [
      "Invalid move! Try again.\n",
      "O _ _\n",
      "O X _\n",
      "_ _ X\n",
      "\n"
     ]
    },
    {
     "name": "stdin",
     "output_type": "stream",
     "text": [
      "Enter your row (0–2):  12\n",
      "Enter your col (0–2):  12\n"
     ]
    },
    {
     "name": "stdout",
     "output_type": "stream",
     "text": [
      "Invalid move! Try again.\n",
      "O _ _\n",
      "O X _\n",
      "_ _ X\n",
      "\n"
     ]
    },
    {
     "name": "stdin",
     "output_type": "stream",
     "text": [
      "Enter your row (0–2):  12121\n",
      "Enter your col (0–2):  22\n"
     ]
    },
    {
     "name": "stdout",
     "output_type": "stream",
     "text": [
      "Invalid move! Try again.\n",
      "O _ _\n",
      "O X _\n",
      "_ _ X\n",
      "\n"
     ]
    },
    {
     "name": "stdin",
     "output_type": "stream",
     "text": [
      "Enter your row (0–2):  2\n",
      "Enter your col (0–2):  12\n"
     ]
    },
    {
     "name": "stdout",
     "output_type": "stream",
     "text": [
      "Invalid move! Try again.\n",
      "O _ _\n",
      "O X _\n",
      "_ _ X\n",
      "\n"
     ]
    },
    {
     "name": "stdin",
     "output_type": "stream",
     "text": [
      "Enter your row (0–2):  \n"
     ]
    },
    {
     "name": "stdout",
     "output_type": "stream",
     "text": [
      "Invalid input! Enter numbers only.\n",
      "O _ _\n",
      "O X _\n",
      "_ _ X\n",
      "\n"
     ]
    },
    {
     "name": "stdin",
     "output_type": "stream",
     "text": [
      "Enter your row (0–2):  12\n",
      "Enter your col (0–2):  1\n"
     ]
    },
    {
     "name": "stdout",
     "output_type": "stream",
     "text": [
      "Invalid move! Try again.\n",
      "O _ _\n",
      "O X _\n",
      "_ _ X\n",
      "\n"
     ]
    },
    {
     "name": "stdin",
     "output_type": "stream",
     "text": [
      "Enter your row (0–2):  2\n",
      "Enter your col (0–2):  \n"
     ]
    },
    {
     "name": "stdout",
     "output_type": "stream",
     "text": [
      "Invalid input! Enter numbers only.\n",
      "O _ _\n",
      "O X _\n",
      "_ _ X\n",
      "\n"
     ]
    },
    {
     "name": "stdin",
     "output_type": "stream",
     "text": [
      "Enter your row (0–2):  32\n",
      "Enter your col (0–2):  \n"
     ]
    },
    {
     "name": "stdout",
     "output_type": "stream",
     "text": [
      "Invalid input! Enter numbers only.\n",
      "O _ _\n",
      "O X _\n",
      "_ _ X\n",
      "\n"
     ]
    },
    {
     "name": "stdin",
     "output_type": "stream",
     "text": [
      "Enter your row (0–2):  3\n",
      "Enter your col (0–2):  23\n"
     ]
    },
    {
     "name": "stdout",
     "output_type": "stream",
     "text": [
      "Invalid move! Try again.\n",
      "O _ _\n",
      "O X _\n",
      "_ _ X\n",
      "\n"
     ]
    },
    {
     "name": "stdin",
     "output_type": "stream",
     "text": [
      "Enter your row (0–2):  2\n",
      "Enter your col (0–2):  \n"
     ]
    },
    {
     "name": "stdout",
     "output_type": "stream",
     "text": [
      "Invalid input! Enter numbers only.\n",
      "O _ _\n",
      "O X _\n",
      "_ _ X\n",
      "\n"
     ]
    },
    {
     "name": "stdin",
     "output_type": "stream",
     "text": [
      "Enter your row (0–2):  \n"
     ]
    },
    {
     "name": "stdout",
     "output_type": "stream",
     "text": [
      "Invalid input! Enter numbers only.\n",
      "O _ _\n",
      "O X _\n",
      "_ _ X\n",
      "\n"
     ]
    },
    {
     "name": "stdin",
     "output_type": "stream",
     "text": [
      "Enter your row (0–2):  22\n",
      "Enter your col (0–2):  \n"
     ]
    },
    {
     "name": "stdout",
     "output_type": "stream",
     "text": [
      "Invalid input! Enter numbers only.\n",
      "O _ _\n",
      "O X _\n",
      "_ _ X\n",
      "\n"
     ]
    },
    {
     "name": "stdin",
     "output_type": "stream",
     "text": [
      "Enter your row (0–2):  2\n"
     ]
    }
   ],
   "source": [
    "import numpy as np\n",
    "import random\n",
    "\n",
    "# Initialize the board\n",
    "board = np.full((3, 3), '_', dtype=str)\n",
    "\n",
    "# Check for a win\n",
    "def check_winner(b, player):\n",
    "    for i in range(3):\n",
    "        if all(b[i, :] == player) or all(b[:, i] == player):\n",
    "            return True\n",
    "    if all([b[i, i] == player for i in range(3)]) or all([b[i, 2 - i] == player for i in range(3)]):\n",
    "        return True\n",
    "    return False\n",
    "\n",
    "# Check for draw\n",
    "def is_draw(b):\n",
    "    return not np.any(b == '_')\n",
    "\n",
    "# Print the board\n",
    "def print_board(b):\n",
    "    for row in b:\n",
    "        print(' '.join(row))\n",
    "    print()\n",
    "\n",
    "# Main game loop\n",
    "while True:\n",
    "    print_board(board)\n",
    "\n",
    "    # User move\n",
    "    try:\n",
    "        row = int(input(\"Enter your row (0–2): \"))\n",
    "        col = int(input(\"Enter your col (0–2): \"))\n",
    "    except:\n",
    "        print(\"Invalid input! Enter numbers only.\")\n",
    "        continue\n",
    "\n",
    "    if not (0 <= row < 3 and 0 <= col < 3) or board[row][col] != '_':\n",
    "        print(\"Invalid move! Try again.\")\n",
    "        continue\n",
    "\n",
    "    board[row][col] = 'X'\n",
    "\n",
    "    # Check for user win\n",
    "    if check_winner(board, 'X'):\n",
    "        print_board(board)\n",
    "        print(\"🎉 You win!\")\n",
    "        break\n",
    "\n",
    "    if is_draw(board):\n",
    "        print_board(board)\n",
    "        print(\"It's a draw!\")\n",
    "        break\n",
    "\n",
    "    # Computer move\n",
    "    empty_positions = list(zip(*np.where(board == '_')))\n",
    "    comp_move = random.choice(empty_positions)\n",
    "    board[comp_move] = 'O'\n",
    "    print(f\"Computer played at position: {comp_move}\")\n",
    "\n",
    "    # Check for computer win\n",
    "    if check_winner(board, 'O'):\n",
    "        print_board(board)\n",
    "        print(\"💻 Computer wins!\")\n",
    "        break\n",
    "\n",
    "    if is_draw(board):\n",
    "        print_board(board)\n",
    "        print(\"It's a draw!\")\n",
    "        break"
   ]
  },
  {
   "cell_type": "code",
   "execution_count": null,
   "id": "0c475005-9b41-4570-bd63-6be746ba0de3",
   "metadata": {},
   "outputs": [],
   "source": []
  }
 ],
 "metadata": {
  "kernelspec": {
   "display_name": "Python 3 (ipykernel)",
   "language": "python",
   "name": "python3"
  },
  "language_info": {
   "codemirror_mode": {
    "name": "ipython",
    "version": 3
   },
   "file_extension": ".py",
   "mimetype": "text/x-python",
   "name": "python",
   "nbconvert_exporter": "python",
   "pygments_lexer": "ipython3",
   "version": "3.12.4"
  }
 },
 "nbformat": 4,
 "nbformat_minor": 5
}
